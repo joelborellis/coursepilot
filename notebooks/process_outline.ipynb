{
 "cells": [
  {
   "cell_type": "code",
   "execution_count": 4,
   "metadata": {},
   "outputs": [],
   "source": [
    "import json\n",
    "import os\n",
    "\n",
    "def process_outline_json(file_path):\n",
    "    with open(file_path, 'r') as file:\n",
    "        data = json.load(file)\n",
    "\n",
    "    # Create a directory to store the markdown files\n",
    "    if not os.path.exists('markdown_files'):\n",
    "        os.makedirs('markdown_files')\n",
    "\n",
    "    # Get course title and description\n",
    "    course_title = data['course_title']\n",
    "    description = data['description']\n",
    "\n",
    "    # Iterate through lessons\n",
    "    for lesson in data['lessons']:\n",
    "        lesson_title = lesson['lesson_title']\n",
    "        lesson_overview = lesson['lesson_overview']\n",
    "\n",
    "        # Iterate through lesson objectives and nested topics\n",
    "        objectives = lesson['lesson_objectives']\n",
    "        for i in range(0, len(objectives), 2):\n",
    "            objective = objectives[i]\n",
    "            topics = objectives[i + 1]['lesson_topic']\n",
    "            for topic in topics:\n",
    "                file_name = f\"{lesson_title.replace(' ', '_')}_{objective[:30].replace(' ', '_')}_{topic[:30].replace(' ', '_')}.md\"\n",
    "                file_path = os.path.join('markdown_files', file_name)\n",
    "                \n",
    "                with open(file_path, 'w') as md_file:\n",
    "                    md_file.write(f\"## Course Name\\n{course_title}\\n\")\n",
    "                    md_file.write(f\"## Course Description\\n{description}\\n\")\n",
    "                    md_file.write(f\"## Lesson Title\\n{lesson_title}\\n\")\n",
    "                    md_file.write(f\"## Lesson Overview\\n{lesson_overview}\\n\")\n",
    "                    md_file.write(f\"### Lesson Objective\\n{objective}\\n\")\n",
    "                    md_file.write(f\"### Lesson Topic\\n{topic}\\n\")\n",
    "\n",
    "# Example usage\n",
    "process_outline_json('./course_outlines/Challenger.json')"
   ]
  }
 ],
 "metadata": {
  "kernelspec": {
   "display_name": ".venv",
   "language": "python",
   "name": "python3"
  },
  "language_info": {
   "codemirror_mode": {
    "name": "ipython",
    "version": 3
   },
   "file_extension": ".py",
   "mimetype": "text/x-python",
   "name": "python",
   "nbconvert_exporter": "python",
   "pygments_lexer": "ipython3",
   "version": "3.11.2"
  }
 },
 "nbformat": 4,
 "nbformat_minor": 2
}
