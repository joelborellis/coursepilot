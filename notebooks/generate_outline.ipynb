{
 "cells": [
  {
   "cell_type": "code",
   "execution_count": null,
   "metadata": {},
   "outputs": [],
   "source": [
    "from openai import AzureOpenAI\n",
    "from colorama import Fore, Style\n",
    "from dotenv import load_dotenv\n",
    "import os\n",
    "import time\n",
    "import json\n",
    "from tools.search_client import AzureSearch\n",
    "\n",
    "load_dotenv()\n",
    "\n",
    "openai_client = AzureOpenAI(\n",
    "                    api_key=os.environ.get(\"AZURE_OPENAI_API_KEY\"), \n",
    "                    api_version=os.environ.get(\"AZURE_OPENAI_API_VERSION\"),\n",
    "                    azure_endpoint=os.environ.get(\"AZURE_OPENAI_ENDPOINT\")\n",
    "                    )\n",
    "\n",
    "search_client: AzureSearch = AzureSearch()  # get instance of search to query corpus"
   ]
  },
  {
   "cell_type": "code",
   "execution_count": null,
   "metadata": {},
   "outputs": [],
   "source": [
    "# Function to print messages from a thread\n",
    "def get_messages_from_thread(thread_id):\n",
    "        messages = openai_client.beta.threads.messages.list(thread_id=thread_id)\n",
    "        for msg in messages.data:\n",
    "            if msg.role == \"assistant\":\n",
    "                #print(f\"{msg.thread_id}:  {msg.role}: {msg.content[0].text.value}\")\n",
    "                return msg.content[0].text.value # return just the text response to the query"
   ]
  },
  {
   "cell_type": "code",
   "execution_count": null,
   "metadata": {},
   "outputs": [],
   "source": [
    "# Function to wait for a run to complete\n",
    "def wait_for_run_completion(thread_id, run_id):\n",
    "        while True:\n",
    "            run = openai_client.beta.threads.runs.retrieve(thread_id=thread_id, run_id=run_id)\n",
    "            print(f\"Current run status: {run.status}\")\n",
    "            time.sleep(2)\n",
    "            if run.status in ['completed', 'failed', 'requires_action']:\n",
    "                return run"
   ]
  },
  {
   "cell_type": "code",
   "execution_count": null,
   "metadata": {},
   "outputs": [],
   "source": [
    "# Function to perform a Shadow Search\n",
    "def azure_search(query):\n",
    "    search_result = search_client.search_hybrid(query)\n",
    "    #print(search_result)\n",
    "    return search_result"
   ]
  },
  {
   "cell_type": "code",
   "execution_count": null,
   "metadata": {},
   "outputs": [],
   "source": [
    "# Function to handle tool output submission\n",
    "def submit_tool_outputs(thread_id, run_id, tools_to_call):\n",
    "        tool_output_array = []\n",
    "        for tool in tools_to_call:\n",
    "            output = None\n",
    "            tool_call_id = tool.id\n",
    "            function_name = tool.function.name\n",
    "            function_args = tool.function.arguments\n",
    "\n",
    "            if function_name == \"azure_search\":\n",
    "                print(Fore.GREEN + f\"make call to azure_search {json.loads(function_args)['query']}\")\n",
    "                print(Style.RESET_ALL)\n",
    "                output = azure_search(query=json.loads(function_args)[\"query\"])\n",
    "\n",
    "            #elif function_name == \"profile_prospect\":\n",
    "                #print(Fore.GREEN + f\"make call to profile_prospect {json.loads(function_args)['prospect']} - {json.loads(function_args)['context']} \")\n",
    "                #print(Style.RESET_ALL)\n",
    "                #output = profile_prospect(prospect=json.loads(function_args)[\"prospect\"], context=json.loads(function_args)[\"context\"])\n",
    "\n",
    "            #elif function_name == \"process_search_results\":\n",
    "            #    print(f\"make call to process_search_results {json.loads(function_args)['search_results']}\")\n",
    "            #    output = self.process_search_results(search_results=json.loads(function_args)[\"search_results\"])\n",
    "            \n",
    "            if output:\n",
    "                print(Fore.CYAN + f\"[function result] Appending tool output array... \\n\\n{output}\")\n",
    "                print(Style.RESET_ALL)\n",
    "                tool_output_array.append({\"tool_call_id\": tool_call_id, \"output\": output})\n",
    "\n",
    "        return openai_client.beta.threads.runs.submit_tool_outputs(\n",
    "            thread_id=thread_id,\n",
    "            run_id=run_id,\n",
    "            tool_outputs=tool_output_array\n",
    "        )"
   ]
  },
  {
   "cell_type": "code",
   "execution_count": null,
   "metadata": {},
   "outputs": [],
   "source": [
    "def chatbot(query: str, thread_id: str):\n",
    "\n",
    "        # Retrieve an existing assistant which is Shadow Assistant\n",
    "        assistant = openai_client.beta.assistants.retrieve(\n",
    "                        assistant_id=\"asst_YifvR0wR6H41c3cNdSJeO3b3\",\n",
    "                        )  \n",
    "        \n",
    "        openai_client.beta.threads.messages.create(  # create a message on the thread that is a user message\n",
    "                    thread_id=thread_id, \n",
    "                    role=\"user\",\n",
    "                    content=query\n",
    "                    )\n",
    "        while True:\n",
    "            try:\n",
    "                run = openai_client.beta.threads.runs.create(  # create a run of the thread\n",
    "                        additional_instructions=\"Generate a course/class outline with 3 lessons\",\n",
    "                        thread_id=thread_id,\n",
    "                        assistant_id=assistant.id,\n",
    "                        response_format={\"type\": \"json_object\"}\n",
    "                        )\n",
    "                run = wait_for_run_completion(thread_id, run.id)  # wait for the completion of the run which should return the run\n",
    "        \n",
    "                if run.status == 'failed':\n",
    "                    print(f\"Error in run:  {run.failed_at}\")\n",
    "                    continue\n",
    "                elif run.status == 'requires_action':\n",
    "                    run = submit_tool_outputs(thread_id, run.id, run.required_action.submit_tool_outputs.tool_calls)\n",
    "                    run = wait_for_run_completion(thread_id, run.id)\n",
    "\n",
    "                # Print messages from the thread\n",
    "                response = get_messages_from_thread(thread_id)\n",
    "                #print(f\"Response:  {response}\")\n",
    "\n",
    "                return response\n",
    "            except Exception as yikes:\n",
    "                print(f'\\n\\nError communicating with AzureOpenAI: \"{yikes}\"')"
   ]
  },
  {
   "cell_type": "code",
   "execution_count": null,
   "metadata": {},
   "outputs": [],
   "source": [
    "def save_file(filepath, content):\n",
    "    with open(filepath, 'w', encoding='utf-8') as outfile:\n",
    "        outfile.write(content)"
   ]
  },
  {
   "cell_type": "code",
   "execution_count": null,
   "metadata": {},
   "outputs": [],
   "source": [
    "thread = openai_client.beta.threads.create()   # create a thread\n",
    "print(f\"Creating new thread: {thread.id}\")\n",
    "query = \"Beginners course on the SPIN sales methodology\"\n",
    "r = chatbot(query, thread.id)\n",
    "\n",
    "save_file(\"./course_outlines/SPIN.json\", r)\n",
    "\n",
    "print(Fore.YELLOW + f\"\\n{r}\")\n",
    "print(Style.RESET_ALL)"
   ]
  }
 ],
 "metadata": {
  "kernelspec": {
   "display_name": ".venv",
   "language": "python",
   "name": "python3"
  },
  "language_info": {
   "codemirror_mode": {
    "name": "ipython",
    "version": 3
   },
   "file_extension": ".py",
   "mimetype": "text/x-python",
   "name": "python",
   "nbconvert_exporter": "python",
   "pygments_lexer": "ipython3",
   "version": "3.11.2"
  }
 },
 "nbformat": 4,
 "nbformat_minor": 2
}
